{
  "cells": [
    {
      "cell_type": "markdown",
      "metadata": {
        "id": "view-in-github",
        "colab_type": "text"
      },
      "source": [
        "<a href=\"https://colab.research.google.com/github/JLuceroVasquez/data-science-probando-relaciones-con-regresion-lineal/blob/main/precios_de_inmuebles_regresion_lineal.ipynb\" target=\"_parent\"><img src=\"https://colab.research.google.com/assets/colab-badge.svg\" alt=\"Open In Colab\"/></a>"
      ]
    },
    {
      "cell_type": "markdown",
      "metadata": {
        "id": "y9t7dNY5fnHs"
      },
      "source": [
        "# **Precificación inmobiliaria**\n",
        "\n",
        "**Objetivo**: Estimar los precios de los inmuebles.\n",
        " * Identificar los aspectos que tienen más influencia en la precificación de los inmuebles.\n",
        " * Entender cuál de todos estos aspectos es el más relevante.\n",
        " * Precificar un inmueble nuevo.\n",
        "\n",
        "Base de datos simplificada e inspirada en [House Prices](https://www.kaggle.com/competitions/house-prices-advanced-regression-techniques)\n",
        "\n",
        "\n",
        "\n",
        "![](https://i.imgur.com/A8X79yq.jpeg)\n"
      ]
    },
    {
      "cell_type": "markdown",
      "metadata": {
        "id": "erMyEu5QyaSY"
      },
      "source": [
        "# 1. Ajustando una recta"
      ]
    },
    {
      "cell_type": "markdown",
      "metadata": {
        "id": "k2xsBplH-ccj"
      },
      "source": [
        "## Conociendo los datos"
      ]
    },
    {
      "cell_type": "code",
      "source": [
        "#Verificando el encode\n",
        "import chardet\n",
        "\n",
        "with open('/content/datos-precios-casas.csv','rb') as file:\n",
        "  diccionario = chardet.detect(file.read())\n",
        "  encode = diccionario['encoding']\n",
        "\n",
        "print(encode)"
      ],
      "metadata": {
        "id": "7MiUXKNOHm69",
        "outputId": "dc0b4d63-a7f4-4995-aa59-973aa71b7eaf",
        "colab": {
          "base_uri": "https://localhost:8080/"
        }
      },
      "execution_count": 1,
      "outputs": [
        {
          "output_type": "stream",
          "name": "stdout",
          "text": [
            "ascii\n"
          ]
        }
      ]
    },
    {
      "cell_type": "code",
      "source": [
        "#Importamos las librerías\n",
        "import pandas as pd\n",
        "import numpy as np\n",
        "import seaborn as sns\n",
        "import matplotlib.pyplot as plt"
      ],
      "metadata": {
        "id": "cJPtJYjWIZyj"
      },
      "execution_count": 10,
      "outputs": []
    },
    {
      "cell_type": "code",
      "source": [
        "#Leyendo los datos\n",
        "url = 'https://github.com/JLuceroVasquez/data-science-probando-relaciones-con-regresion-lineal/raw/refs/heads/main/datos-precios-casas.csv'\n",
        "\n",
        "datos = pd.read_csv(url, encoding='ascii')\n",
        "datos.head()"
      ],
      "metadata": {
        "id": "j2kddk1QofRy",
        "outputId": "9f4e0e49-8a83-4ac2-c7db-214c3045e43b",
        "colab": {
          "base_uri": "https://localhost:8080/",
          "height": 206
        }
      },
      "execution_count": 4,
      "outputs": [
        {
          "output_type": "execute_result",
          "data": {
            "text/plain": [
              "   Id  area_primer_piso  tiene_segundo_piso  area_segundo_piso  \\\n",
              "0   1           79.5224                   1            79.3366   \n",
              "1   2          117.2398                   0             0.0000   \n",
              "2   3           85.4680                   1            80.4514   \n",
              "3   4           89.2769                   1            70.2324   \n",
              "4   5          106.3705                   1            97.8237   \n",
              "\n",
              "   cantidad_banos  capacidad_carros_garage  calidad_de_cocina_excelente  \\\n",
              "0               2                      548                            0   \n",
              "1               2                      460                            0   \n",
              "2               2                      608                            0   \n",
              "3               1                      642                            0   \n",
              "4               2                      836                            0   \n",
              "\n",
              "   precio_de_venta  \n",
              "0        1027905.0  \n",
              "1         894795.0  \n",
              "2        1101855.0  \n",
              "3         690200.0  \n",
              "4        1232500.0  "
            ],
            "text/html": [
              "\n",
              "  <div id=\"df-16780d26-76f7-4097-a3ca-c95a3c8c87fa\" class=\"colab-df-container\">\n",
              "    <div>\n",
              "<style scoped>\n",
              "    .dataframe tbody tr th:only-of-type {\n",
              "        vertical-align: middle;\n",
              "    }\n",
              "\n",
              "    .dataframe tbody tr th {\n",
              "        vertical-align: top;\n",
              "    }\n",
              "\n",
              "    .dataframe thead th {\n",
              "        text-align: right;\n",
              "    }\n",
              "</style>\n",
              "<table border=\"1\" class=\"dataframe\">\n",
              "  <thead>\n",
              "    <tr style=\"text-align: right;\">\n",
              "      <th></th>\n",
              "      <th>Id</th>\n",
              "      <th>area_primer_piso</th>\n",
              "      <th>tiene_segundo_piso</th>\n",
              "      <th>area_segundo_piso</th>\n",
              "      <th>cantidad_banos</th>\n",
              "      <th>capacidad_carros_garage</th>\n",
              "      <th>calidad_de_cocina_excelente</th>\n",
              "      <th>precio_de_venta</th>\n",
              "    </tr>\n",
              "  </thead>\n",
              "  <tbody>\n",
              "    <tr>\n",
              "      <th>0</th>\n",
              "      <td>1</td>\n",
              "      <td>79.5224</td>\n",
              "      <td>1</td>\n",
              "      <td>79.3366</td>\n",
              "      <td>2</td>\n",
              "      <td>548</td>\n",
              "      <td>0</td>\n",
              "      <td>1027905.0</td>\n",
              "    </tr>\n",
              "    <tr>\n",
              "      <th>1</th>\n",
              "      <td>2</td>\n",
              "      <td>117.2398</td>\n",
              "      <td>0</td>\n",
              "      <td>0.0000</td>\n",
              "      <td>2</td>\n",
              "      <td>460</td>\n",
              "      <td>0</td>\n",
              "      <td>894795.0</td>\n",
              "    </tr>\n",
              "    <tr>\n",
              "      <th>2</th>\n",
              "      <td>3</td>\n",
              "      <td>85.4680</td>\n",
              "      <td>1</td>\n",
              "      <td>80.4514</td>\n",
              "      <td>2</td>\n",
              "      <td>608</td>\n",
              "      <td>0</td>\n",
              "      <td>1101855.0</td>\n",
              "    </tr>\n",
              "    <tr>\n",
              "      <th>3</th>\n",
              "      <td>4</td>\n",
              "      <td>89.2769</td>\n",
              "      <td>1</td>\n",
              "      <td>70.2324</td>\n",
              "      <td>1</td>\n",
              "      <td>642</td>\n",
              "      <td>0</td>\n",
              "      <td>690200.0</td>\n",
              "    </tr>\n",
              "    <tr>\n",
              "      <th>4</th>\n",
              "      <td>5</td>\n",
              "      <td>106.3705</td>\n",
              "      <td>1</td>\n",
              "      <td>97.8237</td>\n",
              "      <td>2</td>\n",
              "      <td>836</td>\n",
              "      <td>0</td>\n",
              "      <td>1232500.0</td>\n",
              "    </tr>\n",
              "  </tbody>\n",
              "</table>\n",
              "</div>\n",
              "    <div class=\"colab-df-buttons\">\n",
              "\n",
              "  <div class=\"colab-df-container\">\n",
              "    <button class=\"colab-df-convert\" onclick=\"convertToInteractive('df-16780d26-76f7-4097-a3ca-c95a3c8c87fa')\"\n",
              "            title=\"Convert this dataframe to an interactive table.\"\n",
              "            style=\"display:none;\">\n",
              "\n",
              "  <svg xmlns=\"http://www.w3.org/2000/svg\" height=\"24px\" viewBox=\"0 -960 960 960\">\n",
              "    <path d=\"M120-120v-720h720v720H120Zm60-500h600v-160H180v160Zm220 220h160v-160H400v160Zm0 220h160v-160H400v160ZM180-400h160v-160H180v160Zm440 0h160v-160H620v160ZM180-180h160v-160H180v160Zm440 0h160v-160H620v160Z\"/>\n",
              "  </svg>\n",
              "    </button>\n",
              "\n",
              "  <style>\n",
              "    .colab-df-container {\n",
              "      display:flex;\n",
              "      gap: 12px;\n",
              "    }\n",
              "\n",
              "    .colab-df-convert {\n",
              "      background-color: #E8F0FE;\n",
              "      border: none;\n",
              "      border-radius: 50%;\n",
              "      cursor: pointer;\n",
              "      display: none;\n",
              "      fill: #1967D2;\n",
              "      height: 32px;\n",
              "      padding: 0 0 0 0;\n",
              "      width: 32px;\n",
              "    }\n",
              "\n",
              "    .colab-df-convert:hover {\n",
              "      background-color: #E2EBFA;\n",
              "      box-shadow: 0px 1px 2px rgba(60, 64, 67, 0.3), 0px 1px 3px 1px rgba(60, 64, 67, 0.15);\n",
              "      fill: #174EA6;\n",
              "    }\n",
              "\n",
              "    .colab-df-buttons div {\n",
              "      margin-bottom: 4px;\n",
              "    }\n",
              "\n",
              "    [theme=dark] .colab-df-convert {\n",
              "      background-color: #3B4455;\n",
              "      fill: #D2E3FC;\n",
              "    }\n",
              "\n",
              "    [theme=dark] .colab-df-convert:hover {\n",
              "      background-color: #434B5C;\n",
              "      box-shadow: 0px 1px 3px 1px rgba(0, 0, 0, 0.15);\n",
              "      filter: drop-shadow(0px 1px 2px rgba(0, 0, 0, 0.3));\n",
              "      fill: #FFFFFF;\n",
              "    }\n",
              "  </style>\n",
              "\n",
              "    <script>\n",
              "      const buttonEl =\n",
              "        document.querySelector('#df-16780d26-76f7-4097-a3ca-c95a3c8c87fa button.colab-df-convert');\n",
              "      buttonEl.style.display =\n",
              "        google.colab.kernel.accessAllowed ? 'block' : 'none';\n",
              "\n",
              "      async function convertToInteractive(key) {\n",
              "        const element = document.querySelector('#df-16780d26-76f7-4097-a3ca-c95a3c8c87fa');\n",
              "        const dataTable =\n",
              "          await google.colab.kernel.invokeFunction('convertToInteractive',\n",
              "                                                    [key], {});\n",
              "        if (!dataTable) return;\n",
              "\n",
              "        const docLinkHtml = 'Like what you see? Visit the ' +\n",
              "          '<a target=\"_blank\" href=https://colab.research.google.com/notebooks/data_table.ipynb>data table notebook</a>'\n",
              "          + ' to learn more about interactive tables.';\n",
              "        element.innerHTML = '';\n",
              "        dataTable['output_type'] = 'display_data';\n",
              "        await google.colab.output.renderOutput(dataTable, element);\n",
              "        const docLink = document.createElement('div');\n",
              "        docLink.innerHTML = docLinkHtml;\n",
              "        element.appendChild(docLink);\n",
              "      }\n",
              "    </script>\n",
              "  </div>\n",
              "\n",
              "\n",
              "    <div id=\"df-ff4f7e28-9def-4e1a-a689-9c1160fac5d6\">\n",
              "      <button class=\"colab-df-quickchart\" onclick=\"quickchart('df-ff4f7e28-9def-4e1a-a689-9c1160fac5d6')\"\n",
              "                title=\"Suggest charts\"\n",
              "                style=\"display:none;\">\n",
              "\n",
              "<svg xmlns=\"http://www.w3.org/2000/svg\" height=\"24px\"viewBox=\"0 0 24 24\"\n",
              "     width=\"24px\">\n",
              "    <g>\n",
              "        <path d=\"M19 3H5c-1.1 0-2 .9-2 2v14c0 1.1.9 2 2 2h14c1.1 0 2-.9 2-2V5c0-1.1-.9-2-2-2zM9 17H7v-7h2v7zm4 0h-2V7h2v10zm4 0h-2v-4h2v4z\"/>\n",
              "    </g>\n",
              "</svg>\n",
              "      </button>\n",
              "\n",
              "<style>\n",
              "  .colab-df-quickchart {\n",
              "      --bg-color: #E8F0FE;\n",
              "      --fill-color: #1967D2;\n",
              "      --hover-bg-color: #E2EBFA;\n",
              "      --hover-fill-color: #174EA6;\n",
              "      --disabled-fill-color: #AAA;\n",
              "      --disabled-bg-color: #DDD;\n",
              "  }\n",
              "\n",
              "  [theme=dark] .colab-df-quickchart {\n",
              "      --bg-color: #3B4455;\n",
              "      --fill-color: #D2E3FC;\n",
              "      --hover-bg-color: #434B5C;\n",
              "      --hover-fill-color: #FFFFFF;\n",
              "      --disabled-bg-color: #3B4455;\n",
              "      --disabled-fill-color: #666;\n",
              "  }\n",
              "\n",
              "  .colab-df-quickchart {\n",
              "    background-color: var(--bg-color);\n",
              "    border: none;\n",
              "    border-radius: 50%;\n",
              "    cursor: pointer;\n",
              "    display: none;\n",
              "    fill: var(--fill-color);\n",
              "    height: 32px;\n",
              "    padding: 0;\n",
              "    width: 32px;\n",
              "  }\n",
              "\n",
              "  .colab-df-quickchart:hover {\n",
              "    background-color: var(--hover-bg-color);\n",
              "    box-shadow: 0 1px 2px rgba(60, 64, 67, 0.3), 0 1px 3px 1px rgba(60, 64, 67, 0.15);\n",
              "    fill: var(--button-hover-fill-color);\n",
              "  }\n",
              "\n",
              "  .colab-df-quickchart-complete:disabled,\n",
              "  .colab-df-quickchart-complete:disabled:hover {\n",
              "    background-color: var(--disabled-bg-color);\n",
              "    fill: var(--disabled-fill-color);\n",
              "    box-shadow: none;\n",
              "  }\n",
              "\n",
              "  .colab-df-spinner {\n",
              "    border: 2px solid var(--fill-color);\n",
              "    border-color: transparent;\n",
              "    border-bottom-color: var(--fill-color);\n",
              "    animation:\n",
              "      spin 1s steps(1) infinite;\n",
              "  }\n",
              "\n",
              "  @keyframes spin {\n",
              "    0% {\n",
              "      border-color: transparent;\n",
              "      border-bottom-color: var(--fill-color);\n",
              "      border-left-color: var(--fill-color);\n",
              "    }\n",
              "    20% {\n",
              "      border-color: transparent;\n",
              "      border-left-color: var(--fill-color);\n",
              "      border-top-color: var(--fill-color);\n",
              "    }\n",
              "    30% {\n",
              "      border-color: transparent;\n",
              "      border-left-color: var(--fill-color);\n",
              "      border-top-color: var(--fill-color);\n",
              "      border-right-color: var(--fill-color);\n",
              "    }\n",
              "    40% {\n",
              "      border-color: transparent;\n",
              "      border-right-color: var(--fill-color);\n",
              "      border-top-color: var(--fill-color);\n",
              "    }\n",
              "    60% {\n",
              "      border-color: transparent;\n",
              "      border-right-color: var(--fill-color);\n",
              "    }\n",
              "    80% {\n",
              "      border-color: transparent;\n",
              "      border-right-color: var(--fill-color);\n",
              "      border-bottom-color: var(--fill-color);\n",
              "    }\n",
              "    90% {\n",
              "      border-color: transparent;\n",
              "      border-bottom-color: var(--fill-color);\n",
              "    }\n",
              "  }\n",
              "</style>\n",
              "\n",
              "      <script>\n",
              "        async function quickchart(key) {\n",
              "          const quickchartButtonEl =\n",
              "            document.querySelector('#' + key + ' button');\n",
              "          quickchartButtonEl.disabled = true;  // To prevent multiple clicks.\n",
              "          quickchartButtonEl.classList.add('colab-df-spinner');\n",
              "          try {\n",
              "            const charts = await google.colab.kernel.invokeFunction(\n",
              "                'suggestCharts', [key], {});\n",
              "          } catch (error) {\n",
              "            console.error('Error during call to suggestCharts:', error);\n",
              "          }\n",
              "          quickchartButtonEl.classList.remove('colab-df-spinner');\n",
              "          quickchartButtonEl.classList.add('colab-df-quickchart-complete');\n",
              "        }\n",
              "        (() => {\n",
              "          let quickchartButtonEl =\n",
              "            document.querySelector('#df-ff4f7e28-9def-4e1a-a689-9c1160fac5d6 button');\n",
              "          quickchartButtonEl.style.display =\n",
              "            google.colab.kernel.accessAllowed ? 'block' : 'none';\n",
              "        })();\n",
              "      </script>\n",
              "    </div>\n",
              "\n",
              "    </div>\n",
              "  </div>\n"
            ],
            "application/vnd.google.colaboratory.intrinsic+json": {
              "type": "dataframe",
              "variable_name": "datos",
              "summary": "{\n  \"name\": \"datos\",\n  \"rows\": 1438,\n  \"fields\": [\n    {\n      \"column\": \"Id\",\n      \"properties\": {\n        \"dtype\": \"number\",\n        \"std\": 422,\n        \"min\": 1,\n        \"max\": 1460,\n        \"num_unique_values\": 1438,\n        \"samples\": [\n          52,\n          1343,\n          940\n        ],\n        \"semantic_type\": \"\",\n        \"description\": \"\"\n      }\n    },\n    {\n      \"column\": \"area_primer_piso\",\n      \"properties\": {\n        \"dtype\": \"number\",\n        \"std\": 33.04059754095299,\n        \"min\": 31.0286,\n        \"max\": 223.1458,\n        \"num_unique_values\": 735,\n        \"samples\": [\n          88.3479,\n          105.1628,\n          92.2497\n        ],\n        \"semantic_type\": \"\",\n        \"description\": \"\"\n      }\n    },\n    {\n      \"column\": \"tiene_segundo_piso\",\n      \"properties\": {\n        \"dtype\": \"number\",\n        \"std\": 0,\n        \"min\": 0,\n        \"max\": 1,\n        \"num_unique_values\": 2,\n        \"samples\": [\n          0,\n          1\n        ],\n        \"semantic_type\": \"\",\n        \"description\": \"\"\n      }\n    },\n    {\n      \"column\": \"area_segundo_piso\",\n      \"properties\": {\n        \"dtype\": \"number\",\n        \"std\": 39.95284630917856,\n        \"min\": 0.0,\n        \"max\": 168.8922,\n        \"num_unique_values\": 407,\n        \"samples\": [\n          65.4016,\n          78.3147\n        ],\n        \"semantic_type\": \"\",\n        \"description\": \"\"\n      }\n    },\n    {\n      \"column\": \"cantidad_banos\",\n      \"properties\": {\n        \"dtype\": \"number\",\n        \"std\": 0,\n        \"min\": 0,\n        \"max\": 3,\n        \"num_unique_values\": 4,\n        \"samples\": [\n          1,\n          0\n        ],\n        \"semantic_type\": \"\",\n        \"description\": \"\"\n      }\n    },\n    {\n      \"column\": \"capacidad_carros_garage\",\n      \"properties\": {\n        \"dtype\": \"number\",\n        \"std\": 211,\n        \"min\": 0,\n        \"max\": 1390,\n        \"num_unique_values\": 431,\n        \"samples\": [\n          542,\n          546\n        ],\n        \"semantic_type\": \"\",\n        \"description\": \"\"\n      }\n    },\n    {\n      \"column\": \"calidad_de_cocina_excelente\",\n      \"properties\": {\n        \"dtype\": \"number\",\n        \"std\": 0,\n        \"min\": 0,\n        \"max\": 1,\n        \"num_unique_values\": 2,\n        \"samples\": [\n          1,\n          0\n        ],\n        \"semantic_type\": \"\",\n        \"description\": \"\"\n      }\n    },\n    {\n      \"column\": \"precio_de_venta\",\n      \"properties\": {\n        \"dtype\": \"number\",\n        \"std\": 369720.34281568107,\n        \"min\": 172057.0,\n        \"max\": 3081250.0,\n        \"num_unique_values\": 653,\n        \"samples\": [\n          758727.0,\n          1210315.0\n        ],\n        \"semantic_type\": \"\",\n        \"description\": \"\"\n      }\n    }\n  ]\n}"
            }
          },
          "metadata": {},
          "execution_count": 4
        }
      ]
    },
    {
      "cell_type": "code",
      "execution_count": 5,
      "metadata": {
        "id": "ODdLbwgwmKB4",
        "outputId": "28e4f826-d6ad-47db-f49b-40b6ab5fc5e9",
        "colab": {
          "base_uri": "https://localhost:8080/"
        }
      },
      "outputs": [
        {
          "output_type": "stream",
          "name": "stdout",
          "text": [
            "<class 'pandas.core.frame.DataFrame'>\n",
            "RangeIndex: 1438 entries, 0 to 1437\n",
            "Data columns (total 8 columns):\n",
            " #   Column                       Non-Null Count  Dtype  \n",
            "---  ------                       --------------  -----  \n",
            " 0   Id                           1438 non-null   int64  \n",
            " 1   area_primer_piso             1438 non-null   float64\n",
            " 2   tiene_segundo_piso           1438 non-null   int64  \n",
            " 3   area_segundo_piso            1438 non-null   float64\n",
            " 4   cantidad_banos               1438 non-null   int64  \n",
            " 5   capacidad_carros_garage      1438 non-null   int64  \n",
            " 6   calidad_de_cocina_excelente  1438 non-null   int64  \n",
            " 7   precio_de_venta              1438 non-null   float64\n",
            "dtypes: float64(3), int64(5)\n",
            "memory usage: 90.0 KB\n"
          ]
        }
      ],
      "source": [
        "#Cuáles factores fueron colectados\n",
        "datos.info()"
      ]
    },
    {
      "cell_type": "code",
      "source": [
        "#Se eliminan las columnas sin información relevante para el modelo predictivo\n",
        "datos.drop(columns='Id', inplace=True)\n",
        "datos.columns"
      ],
      "metadata": {
        "id": "Fx5C-rYjpNsa",
        "outputId": "79c136d2-b566-4c5e-c31f-c2d668b92a2c",
        "colab": {
          "base_uri": "https://localhost:8080/"
        }
      },
      "execution_count": 6,
      "outputs": [
        {
          "output_type": "execute_result",
          "data": {
            "text/plain": [
              "Index(['area_primer_piso', 'tiene_segundo_piso', 'area_segundo_piso',\n",
              "       'cantidad_banos', 'capacidad_carros_garage',\n",
              "       'calidad_de_cocina_excelente', 'precio_de_venta'],\n",
              "      dtype='object')"
            ]
          },
          "metadata": {},
          "execution_count": 6
        }
      ]
    },
    {
      "cell_type": "markdown",
      "metadata": {
        "id": "m47fyV-TskS8"
      },
      "source": [
        "## Correlación\n",
        "\n",
        "**¿Cuáles factores están relacionados con el precio de la casa? ¿Cómo es esa relación?**\n",
        "\n",
        "El coeficiente de correlación de Pearson nos permite medir la relación lineal entre variables, ofreciendo una escala que varía de -1 a 1, la cual interpretamos según su intensidad y dirección:\n",
        "\n",
        "* **-1**: correlación negativa perfecta: a medida que una variable aumenta, la otra disminuye.  \n",
        "* **0**: no hay relación lineal entre las variables.  \n",
        "* **1**: correlación positiva perfecta: a medida que una variable aumenta, la otra también aumenta.  \n",
        "\n"
      ]
    },
    {
      "cell_type": "code",
      "source": [
        "# Correlación\n",
        "corr = datos.corr()"
      ],
      "metadata": {
        "id": "u4H8rN9RqOVL"
      },
      "execution_count": 7,
      "outputs": []
    },
    {
      "cell_type": "code",
      "source": [
        "corr['precio_de_venta']"
      ],
      "metadata": {
        "id": "EsNfQ6ghqcAq",
        "outputId": "d10f677e-010b-450c-a46e-ec257503425f",
        "colab": {
          "base_uri": "https://localhost:8080/",
          "height": 303
        }
      },
      "execution_count": 8,
      "outputs": [
        {
          "output_type": "execute_result",
          "data": {
            "text/plain": [
              "area_primer_piso               0.616557\n",
              "tiene_segundo_piso             0.138541\n",
              "area_segundo_piso              0.305311\n",
              "cantidad_banos                 0.563132\n",
              "capacidad_carros_garage        0.640214\n",
              "calidad_de_cocina_excelente    0.496223\n",
              "precio_de_venta                1.000000\n",
              "Name: precio_de_venta, dtype: float64"
            ],
            "text/html": [
              "<div>\n",
              "<style scoped>\n",
              "    .dataframe tbody tr th:only-of-type {\n",
              "        vertical-align: middle;\n",
              "    }\n",
              "\n",
              "    .dataframe tbody tr th {\n",
              "        vertical-align: top;\n",
              "    }\n",
              "\n",
              "    .dataframe thead th {\n",
              "        text-align: right;\n",
              "    }\n",
              "</style>\n",
              "<table border=\"1\" class=\"dataframe\">\n",
              "  <thead>\n",
              "    <tr style=\"text-align: right;\">\n",
              "      <th></th>\n",
              "      <th>precio_de_venta</th>\n",
              "    </tr>\n",
              "  </thead>\n",
              "  <tbody>\n",
              "    <tr>\n",
              "      <th>area_primer_piso</th>\n",
              "      <td>0.616557</td>\n",
              "    </tr>\n",
              "    <tr>\n",
              "      <th>tiene_segundo_piso</th>\n",
              "      <td>0.138541</td>\n",
              "    </tr>\n",
              "    <tr>\n",
              "      <th>area_segundo_piso</th>\n",
              "      <td>0.305311</td>\n",
              "    </tr>\n",
              "    <tr>\n",
              "      <th>cantidad_banos</th>\n",
              "      <td>0.563132</td>\n",
              "    </tr>\n",
              "    <tr>\n",
              "      <th>capacidad_carros_garage</th>\n",
              "      <td>0.640214</td>\n",
              "    </tr>\n",
              "    <tr>\n",
              "      <th>calidad_de_cocina_excelente</th>\n",
              "      <td>0.496223</td>\n",
              "    </tr>\n",
              "    <tr>\n",
              "      <th>precio_de_venta</th>\n",
              "      <td>1.000000</td>\n",
              "    </tr>\n",
              "  </tbody>\n",
              "</table>\n",
              "</div><br><label><b>dtype:</b> float64</label>"
            ]
          },
          "metadata": {},
          "execution_count": 8
        }
      ]
    },
    {
      "cell_type": "code",
      "execution_count": 12,
      "metadata": {
        "id": "grbenA73mKGp",
        "outputId": "69bfc54a-a42e-460f-ee72-d2c55cc29c14",
        "colab": {
          "base_uri": "https://localhost:8080/",
          "height": 929
        }
      },
      "outputs": [
        {
          "output_type": "display_data",
          "data": {
            "text/plain": [
              "<Figure size 1100x900 with 2 Axes>"
            ],
            "image/png": "[encoded data removed]"
          },
          "metadata": {}
        }
      ],
      "source": [
        "# Actividad\n",
        "# Cuáles factores están más correlacionados?\n",
        "# Generar una máscara para el triángulo superior\n",
        "mascara = np.zeros_like(corr, dtype=bool)\n",
        "mascara[np.triu_indices_from(mascara)] = True\n",
        "\n",
        "# Configurar la figura de matplotlib\n",
        "f, ax = plt.subplots(figsize=(11, 9))\n",
        "\n",
        "# Generar el mapa de calor (heatmap)\n",
        "cmap = sns.diverging_palette(10, 220, as_cmap=True)\n",
        "\n",
        "sns.heatmap(corr, mask=mascara, cmap=cmap, vmax=1, vmin=-1, center=0,\n",
        "            square=True, linewidths=.5, annot=True, cbar_kws={\"shrink\": .5})\n",
        "\n",
        "# Mostrar el mapa de calor (heatmap)\n",
        "plt.show()"
      ]
    },
    {
      "cell_type": "markdown",
      "metadata": {
        "id": "ICnyF93ko09b"
      },
      "source": [
        "## Relacionando variables"
      ]
    },
    {
      "cell_type": "code",
      "execution_count": 13,
      "metadata": {
        "id": "inoJird2mKJm",
        "outputId": "540131b6-5ee1-4b7f-e4c4-85632e4d6d27",
        "colab": {
          "base_uri": "https://localhost:8080/",
          "height": 487
        }
      },
      "outputs": [
        {
          "output_type": "display_data",
          "data": {
            "text/plain": [
              "<Figure size 640x480 with 1 Axes>"
            ],
            "image/png": "[encoded data removed]"
          },
          "metadata": {}
        }
      ],
      "source": [
        "# Cómo se relacionan el área construída y el precio del inmueble?\n",
        "plt.scatter(x='area_primer_piso', y='precio_de_venta', data= datos)\n",
        "plt.title('Relación entre el área del primer piso y el precio de la casa')\n",
        "plt.xlabel('Área en m2')\n",
        "plt.ylabel('Precio en millones de USD')\n",
        "plt.show()"
      ]
    },
    {
      "cell_type": "code",
      "execution_count": 15,
      "metadata": {
        "id": "RJXgcH6HuAix",
        "outputId": "ff58d3e7-9bbd-4c86-b202-e31e695e722b",
        "colab": {
          "base_uri": "https://localhost:8080/",
          "height": 487
        }
      },
      "outputs": [
        {
          "output_type": "display_data",
          "data": {
            "text/plain": [
              "<Figure size 640x480 with 1 Axes>"
            ],
            "image/png": "[encoded data removed]"
          },
          "metadata": {}
        }
      ],
      "source": [
        "# Aparentemente mientras mayor es el área del primer piso, mayor es el precio de la casa.\n",
        "# ¿Y si quisieramos trazar una línea que nos permita describir este comportamiento?\n",
        "plt.scatter(x='area_primer_piso', y='precio_de_venta', data= datos)\n",
        "plt.axline(xy1=(40,300000), xy2=(180,1600000), color='red')\n",
        "plt.title('Relación entre el área del primer piso y el precio de la casa')\n",
        "plt.xlabel('Área en m2')\n",
        "plt.ylabel('Precio en millones de USD')\n",
        "plt.show()"
      ]
    },
    {
      "cell_type": "markdown",
      "metadata": {
        "id": "m8FFVV3FsuOh"
      },
      "source": [
        "## Mejor recta"
      ]
    },
    {
      "cell_type": "code",
      "execution_count": null,
      "metadata": {
        "id": "1gDwrX_KvS_9"
      },
      "outputs": [],
      "source": [
        "# Cuál es la recta que mejor se ajusta a esta relación\n"
      ]
    },
    {
      "cell_type": "markdown",
      "metadata": {
        "id": "4UrDseC82Y_F"
      },
      "source": [
        "# 2. Explicando la recta\n",
        "Ajustamos una recta entre los $m^2$ del primer piso y el precio de la casa. Queremos explicar el precio de la casa a partir de su tamaño, por eso decimos que:\n",
        "\n",
        "* Variable explicativa/independiente: Área del primer piso  \n",
        "* Variable de respuesta/dependiente: Precio de la casa  "
      ]
    },
    {
      "cell_type": "code",
      "execution_count": null,
      "metadata": {
        "id": "PS2GnzlIVEML"
      },
      "outputs": [],
      "source": [
        "#Quién es nuestra variable de respuesta?\n"
      ]
    },
    {
      "cell_type": "markdown",
      "metadata": {
        "id": "6SdDRESQh2xo"
      },
      "source": [
        "### Separando datos para entrenamiento y para prueba\n",
        "\n",
        "El conjunto de **entrenamiento** se utiliza para ajustar el modelo, mientras que el conjunto de **prueba** se usa para evaluar su desempeño al predecir precios de viviendas no vistos durante el entrenamiento, lo que ayuda a la generalización del modelo."
      ]
    },
    {
      "cell_type": "code",
      "source": [
        "# import train_test_split\n"
      ],
      "metadata": {
        "id": "gHIRjm1AyIQ_"
      },
      "execution_count": null,
      "outputs": []
    },
    {
      "cell_type": "code",
      "source": [
        "#Datos de entrenamiento para usar la fórmula\n"
      ],
      "metadata": {
        "id": "VT6y54dix7lf"
      },
      "execution_count": null,
      "outputs": []
    },
    {
      "cell_type": "code",
      "source": [
        "# import ols\n"
      ],
      "metadata": {
        "id": "kzuboWuxx-v_"
      },
      "execution_count": null,
      "outputs": []
    },
    {
      "cell_type": "code",
      "execution_count": null,
      "metadata": {
        "id": "9XvJ2peG4AzL"
      },
      "outputs": [],
      "source": [
        "# ajustando el primer modelo\n"
      ]
    },
    {
      "cell_type": "markdown",
      "metadata": {
        "id": "BpehBvRj4j0B"
      },
      "source": [
        "## Analizando los coeficientes\n",
        "\n",
        "(intensidad, dirección y significancia)\n",
        "\n",
        "\n"
      ]
    },
    {
      "cell_type": "code",
      "source": [
        "# visualizando los parámetros\n"
      ],
      "metadata": {
        "id": "TEs3lNVC2nxX"
      },
      "execution_count": null,
      "outputs": []
    },
    {
      "cell_type": "code",
      "source": [
        "# El resumen del modelo\n"
      ],
      "metadata": {
        "id": "hq8rU6kZ2qAG"
      },
      "execution_count": null,
      "outputs": []
    },
    {
      "cell_type": "markdown",
      "source": [
        "- El **punto de intercepción** es el valor esperado del precio de la casa cuando todas las demás variables son cero. En este caso, cuando todas las demás variables, incluida el área del primer piso, son cero, el precio esperado de la casa es de $145.196,40. No siempre se tiene una interpretación práctica para este número.\n",
        "\n",
        "- El **efecto individual** del área es de \\$6.833,97. Esto indica que por cada metro cuadrado adicional al área del primer piso, se espera que el precio de la casa aumente en promedio \\$6.833,97.\n",
        "\n",
        "<img src=\"https://i.ibb.co/CJwfMgW/coeficientes.png\" alt=\"coeficientes\" border=\"0\">\n"
      ],
      "metadata": {
        "id": "k_ZfkTOewmlW"
      }
    },
    {
      "cell_type": "markdown",
      "metadata": {
        "id": "qlHuIXawggV1"
      },
      "source": [
        "## Explicabilidad del modelo\n",
        "\n",
        "**¿En qué medida la variación del área explica los diversos precios de las casas?**  \n",
        "\n",
        "En este caso, recurrimos a la métrica R², el coeficiente de determinación. El R² varía de 0 a 1, donde 1 indica un ajuste perfecto del modelo a los datos, es decir, todas las variaciones en la variable dependiente son explicadas por las variables independientes en el modelo. Por otro lado, un R² de 0 indica que el modelo no explica ninguna variabilidad en la variable dependiente."
      ]
    },
    {
      "cell_type": "code",
      "execution_count": null,
      "metadata": {
        "id": "bCrpFxangFUf"
      },
      "outputs": [],
      "source": [
        "# observando el R²\n"
      ]
    },
    {
      "cell_type": "markdown",
      "metadata": {
        "id": "ja6mwxKuhCZR"
      },
      "source": [
        "## Entendiendo el resíduo"
      ]
    },
    {
      "cell_type": "code",
      "execution_count": null,
      "metadata": {
        "id": "G-TWnRl-4hEn"
      },
      "outputs": [],
      "source": [
        "# Quiénes son los residuos?\n"
      ]
    },
    {
      "cell_type": "code",
      "source": [
        "# Cómo están distribuidos\n"
      ],
      "metadata": {
        "id": "bM91NMCMUb-G"
      },
      "execution_count": null,
      "outputs": []
    },
    {
      "cell_type": "markdown",
      "source": [
        "<img src=\"https://i.ibb.co/zGTB35V/residuos.png\" alt=\"residuos\" border=\"0\">"
      ],
      "metadata": {
        "id": "aaPkf1ybjyxa"
      }
    },
    {
      "cell_type": "markdown",
      "metadata": {
        "id": "dbETTlFihzJJ"
      },
      "source": [
        "## Obteniendo el R² de la previsión"
      ]
    },
    {
      "cell_type": "code",
      "source": [
        "# definiendo la 'Y' prevista\n"
      ],
      "metadata": {
        "id": "nTwiYeIy4wVz"
      },
      "execution_count": null,
      "outputs": []
    },
    {
      "cell_type": "code",
      "source": [
        "# importando el r2_score\n"
      ],
      "metadata": {
        "id": "xdGQncIQ5DAF"
      },
      "execution_count": null,
      "outputs": []
    },
    {
      "cell_type": "code",
      "source": [
        "# mostrando el resultado de r²\n"
      ],
      "metadata": {
        "id": "llfmxm3vav7t"
      },
      "execution_count": null,
      "outputs": []
    },
    {
      "cell_type": "markdown",
      "metadata": {
        "id": "KGi13v3IyylJ"
      },
      "source": [
        "# 3. Añadiendo otras características\n",
        "\n",
        "El modelo con un solo factor nos mostró un R² de 0.38, es decir, aproximadamente el 38% de la variación observada en los precios de las casas puede explicarse por la variación en el área.  \n",
        "Esto indica que aún existe una cantidad significativa de variación que no está siendo capturada por este modelo específico. Analizaremos otros factores para explicar el precio de las casas."
      ]
    },
    {
      "cell_type": "markdown",
      "metadata": {
        "id": "WeslSOrPWrQw"
      },
      "source": [
        "## Analizando los factores"
      ]
    },
    {
      "cell_type": "code",
      "source": [
        "# cuáles otras características podrían explicar el precio de los inmuebles?\n"
      ],
      "metadata": {
        "id": "FWE7AlEwCKgC"
      },
      "execution_count": null,
      "outputs": []
    },
    {
      "cell_type": "code",
      "execution_count": null,
      "metadata": {
        "id": "gka8CJ3PWDFG"
      },
      "outputs": [],
      "source": [
        "#Vamos a analizar solamente y_vars='precio_de_venta'\n"
      ]
    },
    {
      "cell_type": "markdown",
      "metadata": {
        "id": "bVNYO4SCWxh5"
      },
      "source": [
        "## Añadiendo factores al modelo"
      ]
    },
    {
      "cell_type": "code",
      "execution_count": null,
      "metadata": {
        "id": "xuVtu-Rgek8D"
      },
      "outputs": [],
      "source": [
        "# importando la api de statsmodels\n"
      ]
    },
    {
      "cell_type": "code",
      "source": [
        "# Añadiendo una constante\n"
      ],
      "metadata": {
        "id": "_FE5frMQEsx8"
      },
      "execution_count": null,
      "outputs": []
    },
    {
      "cell_type": "code",
      "source": [
        "# Creando el modelo de regresión (con todas las variables): saturado\n"
      ],
      "metadata": {
        "id": "ckQxxe5ISxZB"
      },
      "execution_count": null,
      "outputs": []
    },
    {
      "cell_type": "code",
      "source": [
        "# Modelo sin el área del segundo piso\n"
      ],
      "metadata": {
        "id": "fssPSTIERvQ1"
      },
      "execution_count": null,
      "outputs": []
    },
    {
      "cell_type": "code",
      "source": [
        "# Modelo sin la información del garage\n",
        "# Modelo sin el área del segundo piso\n"
      ],
      "metadata": {
        "id": "VA2ExIS6ReQg"
      },
      "execution_count": null,
      "outputs": []
    },
    {
      "cell_type": "code",
      "source": [
        "# Resumen del modelos\n"
      ],
      "metadata": {
        "id": "w6AjciTufCbF"
      },
      "execution_count": null,
      "outputs": []
    },
    {
      "cell_type": "code",
      "source": [],
      "metadata": {
        "id": "wKaBPSzgJHvb"
      },
      "execution_count": null,
      "outputs": []
    },
    {
      "cell_type": "markdown",
      "metadata": {
        "id": "J94_6l43r6Uq"
      },
      "source": [
        "## Comparando los modelos\n",
        "Cuál es el modelo?\n"
      ]
    },
    {
      "cell_type": "code",
      "source": [
        "# Cuántos parámetros tiene el modelo?\n"
      ],
      "metadata": {
        "id": "v6lepZJAig3p"
      },
      "execution_count": null,
      "outputs": []
    },
    {
      "cell_type": "markdown",
      "metadata": {
        "id": "T9mIZFbGi70G"
      },
      "source": [
        "# 4. Precificando las casas"
      ]
    },
    {
      "cell_type": "markdown",
      "source": [
        "## Obteniendo el R² de la previsión"
      ],
      "metadata": {
        "id": "OafzmGZtCVc3"
      }
    },
    {
      "cell_type": "code",
      "source": [
        "# Añadiendo una constante en X_test\n"
      ],
      "metadata": {
        "id": "mC87-JGBkp2j"
      },
      "execution_count": null,
      "outputs": []
    },
    {
      "cell_type": "code",
      "source": [
        "# Previsión con el modelo 3\n"
      ],
      "metadata": {
        "id": "qqKdimX5kM3-"
      },
      "execution_count": null,
      "outputs": []
    },
    {
      "cell_type": "code",
      "source": [
        "# Cuál es el r² de la previsión?\n"
      ],
      "metadata": {
        "id": "ADmo3-n8ld4D"
      },
      "execution_count": null,
      "outputs": []
    },
    {
      "cell_type": "code",
      "execution_count": null,
      "metadata": {
        "id": "o5jXUBuhnpU4"
      },
      "outputs": [],
      "source": [
        "# Cuál es el R² del entrenamiento?\n"
      ]
    },
    {
      "cell_type": "markdown",
      "metadata": {
        "id": "bnAKaKVJtqLD"
      },
      "source": [
        "## Precificando una casa\n",
        "\n",
        "<img src=\"https://i.ibb.co/SvG4V4j/costo.png\" alt=\"costo\" border=\"0\">"
      ]
    },
    {
      "cell_type": "code",
      "source": [],
      "metadata": {
        "id": "G2lIfTlFj3aY"
      },
      "execution_count": null,
      "outputs": []
    },
    {
      "cell_type": "code",
      "execution_count": null,
      "metadata": {
        "id": "yshOHurZkkR0"
      },
      "outputs": [],
      "source": [
        "#Nuevo inmueble\n"
      ]
    },
    {
      "cell_type": "code",
      "source": [
        "# Cuál es el precio del inmueble de acuerdo con el modelo 0?\n"
      ],
      "metadata": {
        "id": "IYLwu7uKGDlx"
      },
      "execution_count": null,
      "outputs": []
    },
    {
      "cell_type": "code",
      "source": [
        "#Cuál es el precio del inmueble de acuerdo con el modelo 3?\n"
      ],
      "metadata": {
        "id": "v-au2Ae4GyJH"
      },
      "execution_count": null,
      "outputs": []
    },
    {
      "cell_type": "code",
      "source": [],
      "metadata": {
        "id": "7XCdN-ufkgy0"
      },
      "execution_count": null,
      "outputs": []
    },
    {
      "cell_type": "markdown",
      "metadata": {
        "id": "NhfoS16EtxpH"
      },
      "source": [
        "## Precificando varias casas\n",
        "\n",
        "<img src=\"https://i.imgur.com/i0skFlB.jpeg\" width=\"600\"/>"
      ]
    },
    {
      "cell_type": "code",
      "source": [
        "# Leyendo varias casas?\n"
      ],
      "metadata": {
        "id": "d4bzNSLLYu35"
      },
      "execution_count": null,
      "outputs": []
    },
    {
      "cell_type": "code",
      "source": [],
      "metadata": {
        "id": "a3fKRoblZYYZ"
      },
      "execution_count": null,
      "outputs": []
    },
    {
      "cell_type": "code",
      "source": [
        "# Añadiendo una constante\n"
      ],
      "metadata": {
        "id": "-irX-SIJH-vD"
      },
      "execution_count": null,
      "outputs": []
    },
    {
      "cell_type": "code",
      "source": [
        "# Cuál es el precio de estas nuevas casas?\n",
        "# precio_casas = pd.DataFrame()\n"
      ],
      "metadata": {
        "id": "zb5dhjx72x0J"
      },
      "execution_count": null,
      "outputs": []
    },
    {
      "cell_type": "markdown",
      "metadata": {
        "id": "lOFOUylKt92e"
      },
      "source": [
        "# 5. Investigando el modelo\n",
        "\n",
        "\n",
        "\n"
      ]
    },
    {
      "cell_type": "markdown",
      "metadata": {
        "id": "k0xbnPMS8dYV"
      },
      "source": [
        "## Multicolinearidad\n",
        "\n",
        "Cuando dos o más cosas que estás intentando estudiar son tan parecidas que es difícil determinar cuánto está influyendo cada una de ellas en el resultado."
      ]
    },
    {
      "cell_type": "code",
      "source": [
        "# importar el VIF de statsmodel\n"
      ],
      "metadata": {
        "id": "aKIeiwRe0QK0"
      },
      "execution_count": null,
      "outputs": []
    },
    {
      "cell_type": "code",
      "source": [],
      "metadata": {
        "id": "Tgo0TjBONGBe"
      },
      "execution_count": null,
      "outputs": []
    },
    {
      "cell_type": "code",
      "source": [
        "# VIF 1\n"
      ],
      "metadata": {
        "id": "ymryq_ETbsrs"
      },
      "execution_count": null,
      "outputs": []
    },
    {
      "cell_type": "code",
      "source": [
        "# VIF 3\n"
      ],
      "metadata": {
        "id": "O9NOvL_k0eAr"
      },
      "execution_count": null,
      "outputs": []
    },
    {
      "cell_type": "markdown",
      "metadata": {
        "id": "hFr8CYMVyOiY"
      },
      "source": [
        "## Análisis de los residuos\n",
        "\n",
        "Residuos: la discrepancia entre los valores reales y los valores que el modelo predice para los mismos puntos de datos."
      ]
    },
    {
      "cell_type": "code",
      "source": [],
      "metadata": {
        "id": "ahTiEz-0M8Yi"
      },
      "execution_count": null,
      "outputs": []
    },
    {
      "cell_type": "code",
      "source": [],
      "metadata": {
        "id": "a8vC2ZAfM_Le"
      },
      "execution_count": null,
      "outputs": []
    },
    {
      "cell_type": "code",
      "source": [],
      "metadata": {
        "id": "sV5WVni_M8H2"
      },
      "execution_count": null,
      "outputs": []
    },
    {
      "cell_type": "markdown",
      "source": [
        "<img src=\"https://i.ibb.co/9bmySbm/heterocedasticidad.png\" alt=\"heterocedasticidad\" border=\"0\">"
      ],
      "metadata": {
        "id": "pF72nKFGCg7N"
      }
    }
  ],
  "metadata": {
    "colab": {
      "provenance": [],
      "collapsed_sections": [
        "KGi13v3IyylJ",
        "T9mIZFbGi70G",
        "lOFOUylKt92e"
      ],
      "include_colab_link": true
    },
    "kernelspec": {
      "display_name": "Python 3",
      "name": "python3"
    },
    "language_info": {
      "name": "python"
    }
  },
  "nbformat": 4,
  "nbformat_minor": 0
}